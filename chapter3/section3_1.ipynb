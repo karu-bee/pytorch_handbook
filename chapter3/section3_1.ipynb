{
  "nbformat": 4,
  "nbformat_minor": 0,
  "metadata": {
    "colab": {
      "name": "section3_1.ipynb",
      "provenance": [],
      "collapsed_sections": []
    },
    "kernelspec": {
      "name": "python3",
      "display_name": "Python 3"
    },
    "accelerator": "GPU",
    "widgets": {
      "application/vnd.jupyter.widget-state+json": {
        "ce3f9e3dfd9643eb811d33bfade3947e": {
          "model_module": "@jupyter-widgets/controls",
          "model_name": "HBoxModel",
          "model_module_version": "1.5.0",
          "state": {
            "_view_name": "HBoxView",
            "_dom_classes": [],
            "_model_name": "HBoxModel",
            "_view_module": "@jupyter-widgets/controls",
            "_model_module_version": "1.5.0",
            "_view_count": null,
            "_view_module_version": "1.5.0",
            "box_style": "",
            "layout": "IPY_MODEL_3c7055217f0241a89f5046861ca26888",
            "_model_module": "@jupyter-widgets/controls",
            "children": [
              "IPY_MODEL_021e683e42db4d8ea7a573f247f14cc6",
              "IPY_MODEL_c097b0f33a3b450e9f294ac27ac62cba",
              "IPY_MODEL_b0647cd5fb47454bbe282b625de748ea"
            ]
          }
        },
        "3c7055217f0241a89f5046861ca26888": {
          "model_module": "@jupyter-widgets/base",
          "model_name": "LayoutModel",
          "model_module_version": "1.2.0",
          "state": {
            "_view_name": "LayoutView",
            "grid_template_rows": null,
            "right": null,
            "justify_content": null,
            "_view_module": "@jupyter-widgets/base",
            "overflow": null,
            "_model_module_version": "1.2.0",
            "_view_count": null,
            "flex_flow": null,
            "width": null,
            "min_width": null,
            "border": null,
            "align_items": null,
            "bottom": null,
            "_model_module": "@jupyter-widgets/base",
            "top": null,
            "grid_column": null,
            "overflow_y": null,
            "overflow_x": null,
            "grid_auto_flow": null,
            "grid_area": null,
            "grid_template_columns": null,
            "flex": null,
            "_model_name": "LayoutModel",
            "justify_items": null,
            "grid_row": null,
            "max_height": null,
            "align_content": null,
            "visibility": null,
            "align_self": null,
            "height": null,
            "min_height": null,
            "padding": null,
            "grid_auto_rows": null,
            "grid_gap": null,
            "max_width": null,
            "order": null,
            "_view_module_version": "1.2.0",
            "grid_template_areas": null,
            "object_position": null,
            "object_fit": null,
            "grid_auto_columns": null,
            "margin": null,
            "display": null,
            "left": null
          }
        },
        "021e683e42db4d8ea7a573f247f14cc6": {
          "model_module": "@jupyter-widgets/controls",
          "model_name": "HTMLModel",
          "model_module_version": "1.5.0",
          "state": {
            "_view_name": "HTMLView",
            "style": "IPY_MODEL_be976603835d404fb1fa6bb5ce0c49d7",
            "_dom_classes": [],
            "description": "",
            "_model_name": "HTMLModel",
            "placeholder": "​",
            "_view_module": "@jupyter-widgets/controls",
            "_model_module_version": "1.5.0",
            "value": "",
            "_view_count": null,
            "_view_module_version": "1.5.0",
            "description_tooltip": null,
            "_model_module": "@jupyter-widgets/controls",
            "layout": "IPY_MODEL_3f960a4d55ed436e8a192d7bf389cb20"
          }
        },
        "c097b0f33a3b450e9f294ac27ac62cba": {
          "model_module": "@jupyter-widgets/controls",
          "model_name": "FloatProgressModel",
          "model_module_version": "1.5.0",
          "state": {
            "_view_name": "ProgressView",
            "style": "IPY_MODEL_151a89c85d8f4ce5a4a1ec7023fa279c",
            "_dom_classes": [],
            "description": "",
            "_model_name": "FloatProgressModel",
            "bar_style": "success",
            "max": 170498071,
            "_view_module": "@jupyter-widgets/controls",
            "_model_module_version": "1.5.0",
            "value": 170498071,
            "_view_count": null,
            "_view_module_version": "1.5.0",
            "orientation": "horizontal",
            "min": 0,
            "description_tooltip": null,
            "_model_module": "@jupyter-widgets/controls",
            "layout": "IPY_MODEL_c3ce78085f6e45a49dc2eaedc272154c"
          }
        },
        "b0647cd5fb47454bbe282b625de748ea": {
          "model_module": "@jupyter-widgets/controls",
          "model_name": "HTMLModel",
          "model_module_version": "1.5.0",
          "state": {
            "_view_name": "HTMLView",
            "style": "IPY_MODEL_694721169ce0469590f596cbb193ad4b",
            "_dom_classes": [],
            "description": "",
            "_model_name": "HTMLModel",
            "placeholder": "​",
            "_view_module": "@jupyter-widgets/controls",
            "_model_module_version": "1.5.0",
            "value": " 170499072/? [00:03&lt;00:00, 54001207.57it/s]",
            "_view_count": null,
            "_view_module_version": "1.5.0",
            "description_tooltip": null,
            "_model_module": "@jupyter-widgets/controls",
            "layout": "IPY_MODEL_f3266db5136d4e138249a0a8d5cf75e3"
          }
        },
        "be976603835d404fb1fa6bb5ce0c49d7": {
          "model_module": "@jupyter-widgets/controls",
          "model_name": "DescriptionStyleModel",
          "model_module_version": "1.5.0",
          "state": {
            "_view_name": "StyleView",
            "_model_name": "DescriptionStyleModel",
            "description_width": "",
            "_view_module": "@jupyter-widgets/base",
            "_model_module_version": "1.5.0",
            "_view_count": null,
            "_view_module_version": "1.2.0",
            "_model_module": "@jupyter-widgets/controls"
          }
        },
        "3f960a4d55ed436e8a192d7bf389cb20": {
          "model_module": "@jupyter-widgets/base",
          "model_name": "LayoutModel",
          "model_module_version": "1.2.0",
          "state": {
            "_view_name": "LayoutView",
            "grid_template_rows": null,
            "right": null,
            "justify_content": null,
            "_view_module": "@jupyter-widgets/base",
            "overflow": null,
            "_model_module_version": "1.2.0",
            "_view_count": null,
            "flex_flow": null,
            "width": null,
            "min_width": null,
            "border": null,
            "align_items": null,
            "bottom": null,
            "_model_module": "@jupyter-widgets/base",
            "top": null,
            "grid_column": null,
            "overflow_y": null,
            "overflow_x": null,
            "grid_auto_flow": null,
            "grid_area": null,
            "grid_template_columns": null,
            "flex": null,
            "_model_name": "LayoutModel",
            "justify_items": null,
            "grid_row": null,
            "max_height": null,
            "align_content": null,
            "visibility": null,
            "align_self": null,
            "height": null,
            "min_height": null,
            "padding": null,
            "grid_auto_rows": null,
            "grid_gap": null,
            "max_width": null,
            "order": null,
            "_view_module_version": "1.2.0",
            "grid_template_areas": null,
            "object_position": null,
            "object_fit": null,
            "grid_auto_columns": null,
            "margin": null,
            "display": null,
            "left": null
          }
        },
        "151a89c85d8f4ce5a4a1ec7023fa279c": {
          "model_module": "@jupyter-widgets/controls",
          "model_name": "ProgressStyleModel",
          "model_module_version": "1.5.0",
          "state": {
            "_view_name": "StyleView",
            "_model_name": "ProgressStyleModel",
            "description_width": "",
            "_view_module": "@jupyter-widgets/base",
            "_model_module_version": "1.5.0",
            "_view_count": null,
            "_view_module_version": "1.2.0",
            "bar_color": null,
            "_model_module": "@jupyter-widgets/controls"
          }
        },
        "c3ce78085f6e45a49dc2eaedc272154c": {
          "model_module": "@jupyter-widgets/base",
          "model_name": "LayoutModel",
          "model_module_version": "1.2.0",
          "state": {
            "_view_name": "LayoutView",
            "grid_template_rows": null,
            "right": null,
            "justify_content": null,
            "_view_module": "@jupyter-widgets/base",
            "overflow": null,
            "_model_module_version": "1.2.0",
            "_view_count": null,
            "flex_flow": null,
            "width": null,
            "min_width": null,
            "border": null,
            "align_items": null,
            "bottom": null,
            "_model_module": "@jupyter-widgets/base",
            "top": null,
            "grid_column": null,
            "overflow_y": null,
            "overflow_x": null,
            "grid_auto_flow": null,
            "grid_area": null,
            "grid_template_columns": null,
            "flex": null,
            "_model_name": "LayoutModel",
            "justify_items": null,
            "grid_row": null,
            "max_height": null,
            "align_content": null,
            "visibility": null,
            "align_self": null,
            "height": null,
            "min_height": null,
            "padding": null,
            "grid_auto_rows": null,
            "grid_gap": null,
            "max_width": null,
            "order": null,
            "_view_module_version": "1.2.0",
            "grid_template_areas": null,
            "object_position": null,
            "object_fit": null,
            "grid_auto_columns": null,
            "margin": null,
            "display": null,
            "left": null
          }
        },
        "694721169ce0469590f596cbb193ad4b": {
          "model_module": "@jupyter-widgets/controls",
          "model_name": "DescriptionStyleModel",
          "model_module_version": "1.5.0",
          "state": {
            "_view_name": "StyleView",
            "_model_name": "DescriptionStyleModel",
            "description_width": "",
            "_view_module": "@jupyter-widgets/base",
            "_model_module_version": "1.5.0",
            "_view_count": null,
            "_view_module_version": "1.2.0",
            "_model_module": "@jupyter-widgets/controls"
          }
        },
        "f3266db5136d4e138249a0a8d5cf75e3": {
          "model_module": "@jupyter-widgets/base",
          "model_name": "LayoutModel",
          "model_module_version": "1.2.0",
          "state": {
            "_view_name": "LayoutView",
            "grid_template_rows": null,
            "right": null,
            "justify_content": null,
            "_view_module": "@jupyter-widgets/base",
            "overflow": null,
            "_model_module_version": "1.2.0",
            "_view_count": null,
            "flex_flow": null,
            "width": null,
            "min_width": null,
            "border": null,
            "align_items": null,
            "bottom": null,
            "_model_module": "@jupyter-widgets/base",
            "top": null,
            "grid_column": null,
            "overflow_y": null,
            "overflow_x": null,
            "grid_auto_flow": null,
            "grid_area": null,
            "grid_template_columns": null,
            "flex": null,
            "_model_name": "LayoutModel",
            "justify_items": null,
            "grid_row": null,
            "max_height": null,
            "align_content": null,
            "visibility": null,
            "align_self": null,
            "height": null,
            "min_height": null,
            "padding": null,
            "grid_auto_rows": null,
            "grid_gap": null,
            "max_width": null,
            "order": null,
            "_view_module_version": "1.2.0",
            "grid_template_areas": null,
            "object_position": null,
            "object_fit": null,
            "grid_auto_columns": null,
            "margin": null,
            "display": null,
            "left": null
          }
        }
      }
    }
  },
  "cells": [
    {
      "cell_type": "code",
      "metadata": {
        "id": "YNNzI3Nei5_R"
      },
      "source": [
        "#colabを使う方はこちらを使用ください。\n",
        "#!pip install torch==0.4.1\n",
        "#!pip install torchvision==0.2.1\n",
        "#!pip install numpy==1.14.6\n",
        "#!pip install matplotlib==2.1.2\n",
        "#!pip install pillow==5.0.0\n",
        "#!pip install opencv-python==3.4.3.18"
      ],
      "execution_count": 1,
      "outputs": []
    },
    {
      "cell_type": "code",
      "metadata": {
        "id": "_6qBFEEYYwy8"
      },
      "source": [
        "import torch\n",
        "import torchvision\n",
        "import torch.nn as nn\n",
        "import torch.optim as optim\n",
        "import torch.nn.functional as F\n",
        "import torchvision.transforms as transforms\n",
        "%matplotlib inline\n",
        "import numpy as np\n",
        "from matplotlib import pyplot as plt"
      ],
      "execution_count": 2,
      "outputs": []
    },
    {
      "cell_type": "markdown",
      "metadata": {
        "id": "2jl3gAMtKwVZ"
      },
      "source": [
        "# CIFAR-10をMLPで画像分類\n",
        "\n",
        "## データの読み込み"
      ]
    },
    {
      "cell_type": "code",
      "metadata": {
        "id": "iKImy2BUFhsV",
        "colab": {
          "base_uri": "https://localhost:8080/",
          "height": 102,
          "referenced_widgets": [
            "ce3f9e3dfd9643eb811d33bfade3947e",
            "3c7055217f0241a89f5046861ca26888",
            "021e683e42db4d8ea7a573f247f14cc6",
            "c097b0f33a3b450e9f294ac27ac62cba",
            "b0647cd5fb47454bbe282b625de748ea",
            "be976603835d404fb1fa6bb5ce0c49d7",
            "3f960a4d55ed436e8a192d7bf389cb20",
            "151a89c85d8f4ce5a4a1ec7023fa279c",
            "c3ce78085f6e45a49dc2eaedc272154c",
            "694721169ce0469590f596cbb193ad4b",
            "f3266db5136d4e138249a0a8d5cf75e3"
          ]
        },
        "outputId": "efdcd5ef-77db-4544-e95a-30aa7e7bdc2e"
      },
      "source": [
        "train_dataset = torchvision.datasets.CIFAR10(root='./data/',\n",
        "                                             train=True, \n",
        "                                             transform=transforms.ToTensor(),\n",
        "                                             download=True)\n",
        "test_dataset = torchvision.datasets.CIFAR10(root='./data/',\n",
        "                                             train=False, \n",
        "                                             transform=transforms.ToTensor(),\n",
        "                                             download=True)"
      ],
      "execution_count": 3,
      "outputs": [
        {
          "output_type": "stream",
          "name": "stdout",
          "text": [
            "Downloading https://www.cs.toronto.edu/~kriz/cifar-10-python.tar.gz to ./data/cifar-10-python.tar.gz\n"
          ]
        },
        {
          "output_type": "display_data",
          "data": {
            "application/vnd.jupyter.widget-view+json": {
              "model_id": "ce3f9e3dfd9643eb811d33bfade3947e",
              "version_minor": 0,
              "version_major": 2
            },
            "text/plain": [
              "  0%|          | 0/170498071 [00:00<?, ?it/s]"
            ]
          },
          "metadata": {}
        },
        {
          "output_type": "stream",
          "name": "stdout",
          "text": [
            "Extracting ./data/cifar-10-python.tar.gz to ./data/\n",
            "Files already downloaded and verified\n"
          ]
        }
      ]
    },
    {
      "cell_type": "code",
      "metadata": {
        "id": "6dxJ19E3Fs90",
        "colab": {
          "base_uri": "https://localhost:8080/"
        },
        "outputId": "75e2f7c2-eb4d-422a-f391-715fd261f6d6"
      },
      "source": [
        "image, label = train_dataset[0]\n",
        "print (image.size())\n",
        "print (label)"
      ],
      "execution_count": 4,
      "outputs": [
        {
          "output_type": "stream",
          "name": "stdout",
          "text": [
            "torch.Size([3, 32, 32])\n",
            "6\n"
          ]
        }
      ]
    },
    {
      "cell_type": "code",
      "metadata": {
        "id": "eDKemNkqFuud"
      },
      "source": [
        "train_loader = torch.utils.data.DataLoader(dataset=train_dataset,\n",
        "                                           batch_size=64, \n",
        "                                           shuffle=True,\n",
        "                                          num_workers=2)\n",
        "test_loader = torch.utils.data.DataLoader(dataset=test_dataset,\n",
        "                                           batch_size=64, \n",
        "                                           shuffle=False,\n",
        "                                         num_workers=2)\n"
      ],
      "execution_count": 5,
      "outputs": []
    },
    {
      "cell_type": "code",
      "metadata": {
        "id": "4xApKVWIfXqr",
        "colab": {
          "base_uri": "https://localhost:8080/"
        },
        "outputId": "7b55d7d5-6f28-476c-e488-95cd39cf84b3"
      },
      "source": [
        "for images, labels in train_loader:\n",
        "    print(images.size())\n",
        "    print(images[0].size())\n",
        "    print(labels.size())\n",
        "    # ここに訓練用のコードを書く\n",
        "    break"
      ],
      "execution_count": 6,
      "outputs": [
        {
          "output_type": "stream",
          "name": "stdout",
          "text": [
            "torch.Size([64, 3, 32, 32])\n",
            "torch.Size([3, 32, 32])\n",
            "torch.Size([64])\n"
          ]
        }
      ]
    },
    {
      "cell_type": "markdown",
      "metadata": {
        "id": "oIFbrVZ54fND"
      },
      "source": [
        "## ネットワークを定義"
      ]
    },
    {
      "cell_type": "code",
      "metadata": {
        "id": "N6BK4YCPWxaN"
      },
      "source": [
        "num_classes = 10\n",
        "\n",
        "class MLPNet (nn.Module):\n",
        "    def __init__(self):\n",
        "        super(MLPNet, self).__init__()\n",
        "        self.fc1 = nn.Linear(32 * 32 * 3, 600)\n",
        "        self.fc2 = nn.Linear(600, 600)\n",
        "        self.fc3 = nn.Linear(600, num_classes)\n",
        "        self.dropout1 = nn.Dropout2d(0.2)\n",
        "        self.dropout2 = nn.Dropout2d(0.2)\n",
        "        \n",
        "    def forward(self, x):\n",
        "        x = F.relu(self.fc1(x))\n",
        "        x = self.dropout1(x)\n",
        "        x = F.relu(self.fc2(x))\n",
        "        x = self.dropout2(x)\n",
        "        return F.relu(self.fc3(x))\n",
        "\n",
        "device = 'cuda' if torch.cuda.is_available() else 'cpu'\n",
        "net = MLPNet().to(device)"
      ],
      "execution_count": 7,
      "outputs": []
    },
    {
      "cell_type": "markdown",
      "metadata": {
        "id": "5q70A7ay4ksM"
      },
      "source": [
        "## 損失関数と最適化関数"
      ]
    },
    {
      "cell_type": "code",
      "metadata": {
        "id": "Z8CZzhwHFw3U"
      },
      "source": [
        "criterion = nn.CrossEntropyLoss()\n",
        "optimizer = optim.SGD(net.parameters(), lr=0.01, momentum=0.9, weight_decay=5e-4)"
      ],
      "execution_count": 8,
      "outputs": []
    },
    {
      "cell_type": "markdown",
      "metadata": {
        "id": "8lbMYq0D4may"
      },
      "source": [
        "## 訓練"
      ]
    },
    {
      "cell_type": "code",
      "metadata": {
        "id": "lg6XX3VQOOTX",
        "colab": {
          "base_uri": "https://localhost:8080/"
        },
        "outputId": "a6fe3bfb-57d9-417b-c00e-772c7eb06f12"
      },
      "source": [
        "#50エポック\n",
        "num_epochs = 50\n",
        "\n",
        "#最後にlossとaccuracyのグラフをプロットするためのリスト\n",
        "train_loss_list = []\n",
        "train_acc_list = []\n",
        "val_loss_list = []\n",
        "val_acc_list = []\n",
        "\n",
        "for epoch in range(num_epochs):\n",
        "    #エポックごとに初期化\n",
        "    train_loss = 0\n",
        "    train_acc = 0\n",
        "    val_loss = 0\n",
        "    val_acc = 0\n",
        "    \n",
        "    #train==============================\n",
        "    #訓練モードへ切り替え\n",
        "    net.train()\n",
        "    #ミニバッチで分割して読み込む\n",
        "    for i, (images, labels) in enumerate(train_loader):\n",
        "      #viewで縦横32ピクセルで3チャンネルの画像を１次元に変換\n",
        "      #toでgpuに転送\n",
        "      images, labels = images.view(-1, 32*32*3).to(device), labels.to(device)\n",
        "\n",
        "      #勾配をリセット\n",
        "      optimizer.zero_grad()\n",
        "      #順伝播の計算\n",
        "      outputs = net(images)\n",
        "      #lossの計算\n",
        "      loss = criterion(outputs, labels)\n",
        "      #lossのミニバッチ分を溜め込む\n",
        "      train_loss += loss.item()\n",
        "      #accuracyをミニバッチ分を溜め込む\n",
        "      #正解ラベル（labels）と予測値のtop1（outputs.max(1)）が合っている場合に1が返ってきます。\n",
        "      train_acc += (outputs.max(1)[1] == labels).sum().item()\n",
        "      #逆伝播の計算\n",
        "      loss.backward()\n",
        "      #重みの更新\n",
        "      optimizer.step()\n",
        "    #平均lossと平均accuracyを計算\n",
        "    avg_train_loss = train_loss / len(train_loader.dataset)\n",
        "    avg_train_acc = train_acc / len(train_loader.dataset)\n",
        "    \n",
        "    #val==============================\n",
        "    #評価モードへ切り替え\n",
        "    net.eval()\n",
        "    #評価するときに必要のない計算が走らないようにtorch.no_gradを使用しています。\n",
        "    with torch.no_grad():\n",
        "      for images, labels in test_loader:        \n",
        "        images, labels = images.view(-1, 32*32*3).to(device), labels.to(device)\n",
        "        outputs = net(images)\n",
        "        loss = criterion(outputs, labels)\n",
        "        val_loss += loss.item()\n",
        "        val_acc += (outputs.max(1)[1] == labels).sum().item()\n",
        "    avg_val_loss = val_loss / len(test_loader.dataset)\n",
        "    avg_val_acc = val_acc / len(test_loader.dataset)\n",
        "    \n",
        "    #訓練データのlossと検証データのlossとaccuracyをログで出しています。\n",
        "    print ('Epoch [{}/{}], Loss: {loss:.4f}, val_loss: {val_loss:.4f}, val_acc: {val_acc:.4f}' \n",
        "                   .format(epoch+1, num_epochs, i+1, loss=avg_train_loss, val_loss=avg_val_loss, val_acc=avg_val_acc))\n",
        "    #最後にグラフをプロットするようにリストに格納\n",
        "    train_loss_list.append(avg_train_loss)\n",
        "    train_acc_list.append(avg_train_acc)\n",
        "    val_loss_list.append(avg_val_loss)\n",
        "    val_acc_list.append(avg_val_acc)"
      ],
      "execution_count": 9,
      "outputs": [
        {
          "output_type": "stream",
          "name": "stdout",
          "text": [
            "Epoch [1/50], Loss: 0.0307, val_loss: 0.0278, val_acc: 0.3645\n",
            "Epoch [2/50], Loss: 0.0276, val_loss: 0.0265, val_acc: 0.4040\n",
            "Epoch [3/50], Loss: 0.0265, val_loss: 0.0256, val_acc: 0.4123\n",
            "Epoch [4/50], Loss: 0.0256, val_loss: 0.0243, val_acc: 0.4472\n",
            "Epoch [5/50], Loss: 0.0251, val_loss: 0.0242, val_acc: 0.4454\n",
            "Epoch [6/50], Loss: 0.0246, val_loss: 0.0238, val_acc: 0.4544\n",
            "Epoch [7/50], Loss: 0.0243, val_loss: 0.0232, val_acc: 0.4752\n",
            "Epoch [8/50], Loss: 0.0239, val_loss: 0.0233, val_acc: 0.4687\n",
            "Epoch [9/50], Loss: 0.0236, val_loss: 0.0237, val_acc: 0.4607\n",
            "Epoch [10/50], Loss: 0.0233, val_loss: 0.0230, val_acc: 0.4815\n",
            "Epoch [11/50], Loss: 0.0231, val_loss: 0.0224, val_acc: 0.4955\n",
            "Epoch [12/50], Loss: 0.0228, val_loss: 0.0223, val_acc: 0.4947\n",
            "Epoch [13/50], Loss: 0.0226, val_loss: 0.0223, val_acc: 0.4899\n",
            "Epoch [14/50], Loss: 0.0225, val_loss: 0.0224, val_acc: 0.4890\n",
            "Epoch [15/50], Loss: 0.0222, val_loss: 0.0223, val_acc: 0.4861\n",
            "Epoch [16/50], Loss: 0.0220, val_loss: 0.0225, val_acc: 0.4876\n",
            "Epoch [17/50], Loss: 0.0219, val_loss: 0.0220, val_acc: 0.5049\n",
            "Epoch [18/50], Loss: 0.0218, val_loss: 0.0219, val_acc: 0.4958\n",
            "Epoch [19/50], Loss: 0.0216, val_loss: 0.0215, val_acc: 0.5112\n",
            "Epoch [20/50], Loss: 0.0214, val_loss: 0.0221, val_acc: 0.4954\n",
            "Epoch [21/50], Loss: 0.0213, val_loss: 0.0215, val_acc: 0.5077\n",
            "Epoch [22/50], Loss: 0.0212, val_loss: 0.0218, val_acc: 0.4954\n",
            "Epoch [23/50], Loss: 0.0211, val_loss: 0.0218, val_acc: 0.5098\n",
            "Epoch [24/50], Loss: 0.0209, val_loss: 0.0212, val_acc: 0.5177\n",
            "Epoch [25/50], Loss: 0.0208, val_loss: 0.0217, val_acc: 0.5045\n",
            "Epoch [26/50], Loss: 0.0208, val_loss: 0.0222, val_acc: 0.5020\n",
            "Epoch [27/50], Loss: 0.0206, val_loss: 0.0216, val_acc: 0.5158\n",
            "Epoch [28/50], Loss: 0.0205, val_loss: 0.0210, val_acc: 0.5267\n",
            "Epoch [29/50], Loss: 0.0204, val_loss: 0.0211, val_acc: 0.5150\n",
            "Epoch [30/50], Loss: 0.0204, val_loss: 0.0216, val_acc: 0.5181\n",
            "Epoch [31/50], Loss: 0.0202, val_loss: 0.0214, val_acc: 0.5073\n",
            "Epoch [32/50], Loss: 0.0202, val_loss: 0.0208, val_acc: 0.5267\n",
            "Epoch [33/50], Loss: 0.0201, val_loss: 0.0207, val_acc: 0.5253\n",
            "Epoch [34/50], Loss: 0.0200, val_loss: 0.0206, val_acc: 0.5310\n",
            "Epoch [35/50], Loss: 0.0200, val_loss: 0.0206, val_acc: 0.5310\n",
            "Epoch [36/50], Loss: 0.0200, val_loss: 0.0209, val_acc: 0.5283\n",
            "Epoch [37/50], Loss: 0.0199, val_loss: 0.0208, val_acc: 0.5273\n",
            "Epoch [38/50], Loss: 0.0198, val_loss: 0.0208, val_acc: 0.5267\n",
            "Epoch [39/50], Loss: 0.0196, val_loss: 0.0211, val_acc: 0.5149\n",
            "Epoch [40/50], Loss: 0.0198, val_loss: 0.0208, val_acc: 0.5290\n",
            "Epoch [41/50], Loss: 0.0196, val_loss: 0.0203, val_acc: 0.5394\n",
            "Epoch [42/50], Loss: 0.0195, val_loss: 0.0202, val_acc: 0.5421\n",
            "Epoch [43/50], Loss: 0.0195, val_loss: 0.0209, val_acc: 0.5320\n",
            "Epoch [44/50], Loss: 0.0195, val_loss: 0.0208, val_acc: 0.5267\n",
            "Epoch [45/50], Loss: 0.0194, val_loss: 0.0210, val_acc: 0.5198\n",
            "Epoch [46/50], Loss: 0.0192, val_loss: 0.0202, val_acc: 0.5393\n",
            "Epoch [47/50], Loss: 0.0192, val_loss: 0.0208, val_acc: 0.5232\n",
            "Epoch [48/50], Loss: 0.0192, val_loss: 0.0208, val_acc: 0.5341\n",
            "Epoch [49/50], Loss: 0.0192, val_loss: 0.0208, val_acc: 0.5248\n",
            "Epoch [50/50], Loss: 0.0192, val_loss: 0.0204, val_acc: 0.5375\n"
          ]
        }
      ]
    },
    {
      "cell_type": "markdown",
      "metadata": {
        "id": "NY1Glq4H4o-k"
      },
      "source": [
        "## 結果をプロット"
      ]
    },
    {
      "cell_type": "code",
      "metadata": {
        "id": "oZcIL3SdOckB",
        "colab": {
          "base_uri": "https://localhost:8080/",
          "height": 573
        },
        "outputId": "5b463c4b-06f0-4d1b-dcec-40ab68488229"
      },
      "source": [
        "import matplotlib.pyplot as plt\n",
        "%matplotlib inline\n",
        "\n",
        "plt.figure()\n",
        "plt.plot(range(num_epochs), train_loss_list, color='blue', linestyle='-', label='train_loss')\n",
        "plt.plot(range(num_epochs), val_loss_list, color='green', linestyle='--', label='val_loss')\n",
        "plt.legend()\n",
        "plt.xlabel('epoch')\n",
        "plt.ylabel('loss')\n",
        "plt.title('Training and validation loss')\n",
        "plt.grid()\n",
        "\n",
        "plt.figure()\n",
        "plt.plot(range(num_epochs), train_acc_list, color='blue', linestyle='-', label='train_acc')\n",
        "plt.plot(range(num_epochs), val_acc_list, color='green', linestyle='--', label='val_acc')\n",
        "plt.legend()\n",
        "plt.xlabel('epoch')\n",
        "plt.ylabel('acc')\n",
        "plt.title('Training and validation accuracy')\n",
        "plt.grid()"
      ],
      "execution_count": 10,
      "outputs": [
        {
          "output_type": "display_data",
          "data": {
            "image/png": "[encoded data removed]",
            "text/plain": [
              "<Figure size 432x288 with 1 Axes>"
            ]
          },
          "metadata": {
            "needs_background": "light"
          }
        },
        {
          "output_type": "display_data",
          "data": {
            "image/png": "[encoded data removed]",
            "text/plain": [
              "<Figure size 432x288 with 1 Axes>"
            ]
          },
          "metadata": {
            "needs_background": "light"
          }
        }
      ]
    },
    {
      "cell_type": "code",
      "metadata": {
        "id": "i9Tt4Xoq3P1f"
      },
      "source": [
        "# ネットワークを保存する\n",
        "torch.save(net.state_dict(), 'net.ckpt')"
      ],
      "execution_count": 12,
      "outputs": []
    },
    {
      "cell_type": "code",
      "metadata": {
        "id": "-IjgKyrXR95k",
        "colab": {
          "base_uri": "https://localhost:8080/"
        },
        "outputId": "763924af-c355-46eb-aa73-b15b4e0930f5"
      },
      "source": [
        "# ネットワークを読み込む\n",
        "net2 = MLPNet().to(device)\n",
        "net2.load_state_dict(torch.load('net.ckpt'))"
      ],
      "execution_count": 13,
      "outputs": [
        {
          "output_type": "execute_result",
          "data": {
            "text/plain": [
              "<All keys matched successfully>"
            ]
          },
          "metadata": {},
          "execution_count": 13
        }
      ]
    },
    {
      "cell_type": "markdown",
      "metadata": {
        "id": "Bedn5L9I4LQP"
      },
      "source": [
        "## 推論"
      ]
    },
    {
      "cell_type": "code",
      "metadata": {
        "id": "udcqZxT33thp",
        "colab": {
          "base_uri": "https://localhost:8080/"
        },
        "outputId": "61785f8e-9eb9-45a0-ba3d-d20549e37d26"
      },
      "source": [
        "net2.eval()\n",
        "with torch.no_grad():\n",
        "    total = 0\n",
        "    test_acc = 0\n",
        "    for images, labels in test_loader:        \n",
        "        images, labels = images.view(-1, 32*32*3).to(device), labels.to(device)\n",
        "        outputs = net2(images)\n",
        "        test_acc += (outputs.max(1)[1] == labels).sum().item()\n",
        "        total += labels.size(0)\n",
        "    print('精度: {} %'.format(100 * test_acc / total)) "
      ],
      "execution_count": 14,
      "outputs": [
        {
          "output_type": "stream",
          "name": "stdout",
          "text": [
            "精度: 53.75 %\n"
          ]
        }
      ]
    },
    {
      "cell_type": "code",
      "metadata": {
        "id": "Wn4DpOX76gv0"
      },
      "source": [
        ""
      ],
      "execution_count": null,
      "outputs": []
    }
  ]
}