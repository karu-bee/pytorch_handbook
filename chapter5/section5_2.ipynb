{
  "nbformat": 4,
  "nbformat_minor": 0,
  "metadata": {
    "kernelspec": {
      "display_name": "Python 3",
      "language": "python",
      "name": "python3"
    },
    "language_info": {
      "codemirror_mode": {
        "name": "ipython",
        "version": 3
      },
      "file_extension": ".py",
      "mimetype": "text/x-python",
      "name": "python",
      "nbconvert_exporter": "python",
      "pygments_lexer": "ipython3",
      "version": "3.6.5"
    },
    "colab": {
      "name": "section5_2.ipynb",
      "provenance": []
    }
  },
  "cells": [
    {
      "cell_type": "code",
      "metadata": {
        "id": "_H0wHfbwZjvU"
      },
      "source": [
        "# #colabを使う方はこちらを使用ください。\n",
        "# !pip install torch==0.4.1\n",
        "# !pip install torchvision==0.2.1\n",
        "# !pip install numpy==1.14.6\n",
        "# !pip install matplotlib==2.1.2\n",
        "# !pip install pillow==5.0.0\n",
        "# !pip install opencv-python==3.4.3.18\n",
        "# !pip install torchtext==0.3.1"
      ],
      "execution_count": 1,
      "outputs": []
    },
    {
      "cell_type": "code",
      "metadata": {
        "id": "xmfov8lHZjvY"
      },
      "source": [
        "import torch\n",
        "import torch.nn as nn"
      ],
      "execution_count": 2,
      "outputs": []
    },
    {
      "cell_type": "markdown",
      "metadata": {
        "id": "eG0AkCX_ZjvY"
      },
      "source": [
        "# 多対多のリカレントニューラルネットワーク"
      ]
    },
    {
      "cell_type": "markdown",
      "metadata": {
        "id": "oNVIrWAqZjva"
      },
      "source": [
        "## シーケンス長が揃っていないデータにtorch.nn.LSTＭを使用"
      ]
    },
    {
      "cell_type": "code",
      "metadata": {
        "id": "DJfwQDhEZjvb",
        "outputId": "fa8ba9c7-0edf-4358-d376-eee5247f9f10",
        "colab": {
          "base_uri": "https://localhost:8080/"
        }
      },
      "source": [
        "seq_len_list = [8, 6, 10]\n",
        "\n",
        "input_size = 2\n",
        "hidden_size = 4\n",
        "\n",
        "# 入力データのサンプル\n",
        "input_seq = []\n",
        "for seq_len in seq_len_list:\n",
        "    iseq = torch.randn(seq_len, input_size)\n",
        "    print('input sequence:', iseq.shape)\n",
        "    input_seq.append(iseq)\n",
        "\n",
        "# ネットワークの定義\n",
        "net = nn.LSTM(input_size, hidden_size, num_layers=2, batch_first=True)\n",
        "\n",
        "# 順伝播\n",
        "output_seq = []     # 出力データを格納するリスト\n",
        "for iseq in input_seq:\n",
        "    iseq = iseq.unsqueeze(0)    # 先頭にバッチサイズの次元1を加える\n",
        "    oseq, _ = net(iseq)\n",
        "    output_seq.append(oseq.squeeze(0)) # squeezeで先頭のバッチサイズの次元1を削除してリストに追加\n",
        "\n",
        "# 出力データの確認\n",
        "for oseq in output_seq:\n",
        "    print('output sequence:', oseq.shape)"
      ],
      "execution_count": 3,
      "outputs": [
        {
          "output_type": "stream",
          "name": "stdout",
          "text": [
            "input sequence: torch.Size([8, 2])\n",
            "input sequence: torch.Size([6, 2])\n",
            "input sequence: torch.Size([10, 2])\n",
            "output sequence: torch.Size([8, 4])\n",
            "output sequence: torch.Size([6, 4])\n",
            "output sequence: torch.Size([10, 4])\n"
          ]
        }
      ]
    },
    {
      "cell_type": "markdown",
      "metadata": {
        "id": "u2UlknI1Zjvc"
      },
      "source": [
        "## シーケンス長が揃っているデータにtorch.nn.LSTＭを使用"
      ]
    },
    {
      "cell_type": "code",
      "metadata": {
        "id": "ku38cF5VZjvc",
        "outputId": "776ce825-0097-43fd-d4ae-a6238cf99406",
        "colab": {
          "base_uri": "https://localhost:8080/"
        }
      },
      "source": [
        "batch_size = 20\n",
        "seq_len = 10\n",
        "\n",
        "input_size = 2\n",
        "hidden_size = 4\n",
        "\n",
        "# 入力データのサンプル\n",
        "input_seq = torch.randn(batch_size, seq_len, input_size)\n",
        "print('input sequence:', input_seq.shape)\n",
        "\n",
        "# ネットワークの定義\n",
        "net = nn.LSTM(input_size, hidden_size, num_layers=2, batch_first=True)\n",
        "\n",
        "# 順伝播\n",
        "output_seq, _ = net(input_seq)\n",
        "\n",
        "# 出力データの確認\n",
        "print('output sequence:', output_seq.shape)"
      ],
      "execution_count": 4,
      "outputs": [
        {
          "output_type": "stream",
          "name": "stdout",
          "text": [
            "input sequence: torch.Size([20, 10, 2])\n",
            "output sequence: torch.Size([20, 10, 4])\n"
          ]
        }
      ]
    },
    {
      "cell_type": "markdown",
      "metadata": {
        "id": "PYcGcHlbZjvd"
      },
      "source": [
        "## シーケンス長が揃っているデータにtorch.nn.LSTMCellを使用"
      ]
    },
    {
      "cell_type": "code",
      "metadata": {
        "id": "1lR7T-vqZjvd",
        "outputId": "de27f47e-285a-49cf-e046-f914f3e4aa6f",
        "colab": {
          "base_uri": "https://localhost:8080/"
        }
      },
      "source": [
        "batch_size = 20\n",
        "seq_len = 10\n",
        "\n",
        "input_size = 2\n",
        "hidden_size = 4\n",
        "\n",
        "# 入力データのサンプル\n",
        "input_seq = torch.randn(batch_size, seq_len, input_size)\n",
        "print(\"input sequence：\", input_seq.size())\n",
        "\n",
        "\n",
        "# ネットワークの定義\n",
        "class Net(nn.Module):\n",
        "    def __init__(self):\n",
        "        super(Net, self).__init__()\n",
        "        self.block_a = nn.LSTMCell(input_size, hidden_size)     # LSTMブロックA\n",
        "        self.block_b = nn.LSTMCell(hidden_size, hidden_size)    # LSTMブロックB\n",
        "    \n",
        "    def forward(self, x, hx_a0, cx_a0, hx_b0, cx_b0):\n",
        "        '''\n",
        "        :param x: 現時刻の入力シーケンスの状態\n",
        "        :param hx_a0: 前時刻のLSTMブロックAの隠れ層の状態\n",
        "        :param cx_a0: 前時刻のLSTMブロックAのセル状態\n",
        "        :param hx_b0: 前時刻のLSTMブロックBの隠れ層の状態\n",
        "        :param cx_b0: 前時刻のLSTMブロックBのセル状態\n",
        "        :return: 現時刻のLSTMブロックAの隠れ層の状態とセル状態、現時刻のLSTMブロックBの隠れ層の状態とセル状態\n",
        "        '''\n",
        "        hx_a1, cx_a1 = self.block_a(x, (hx_a0, cx_a0))      # 現時刻のLSTMブロックAの隠れ層の状態とセル状態\n",
        "        hx_b1, cx_b1 = self.block_b(hx_a1, (hx_b0, cx_b0))  # 現時刻のLSTMブロックBの隠れ層の状態とセル状態\n",
        "        return hx_a1, cx_a1, hx_b1, cx_b1\n",
        "\n",
        "\n",
        "net = Net()\n",
        "\n",
        "# 隠れ層の初期化\n",
        "hx_a = torch.randn(batch_size, hidden_size)\n",
        "cx_a = torch.randn(batch_size, hidden_size)\n",
        "hx_b = torch.randn(batch_size, hidden_size)\n",
        "cx_b = torch.randn(batch_size, hidden_size)\n",
        "\n",
        "# 順伝播\n",
        "output_seq = []     # 出力データを格納するリスト\n",
        "for i in range(seq_len):\n",
        "    hx_a, cx_a, hx_b, cx_b = net(input_seq[:, i, :], hx_a, cx_a, hx_b, cx_b)\n",
        "    output_seq.append(hx_b)   # リストに追加\n",
        "output_seq = torch.stack(output_seq, dim=1)     # リストからTensorに変換\n",
        "\n",
        "# 出力データの確認\n",
        "print('output sequence:', output_seq.shape)"
      ],
      "execution_count": 5,
      "outputs": [
        {
          "output_type": "stream",
          "name": "stdout",
          "text": [
            "input sequence： torch.Size([20, 10, 2])\n",
            "output sequence: torch.Size([20, 10, 4])\n"
          ]
        }
      ]
    },
    {
      "cell_type": "markdown",
      "metadata": {
        "id": "aiHNBYtsZjvf"
      },
      "source": [
        "# 多対一のリカレントニューラルネットワーク"
      ]
    },
    {
      "cell_type": "markdown",
      "metadata": {
        "id": "ClIk8ejuZjvf"
      },
      "source": [
        "## シーケンス長が揃っていないデータにtorch.nn.LSTＭを使用"
      ]
    },
    {
      "cell_type": "code",
      "metadata": {
        "id": "22K81Y9EZjvf",
        "outputId": "aa125ba9-2d88-4d7d-d816-f384ddd5729e",
        "colab": {
          "base_uri": "https://localhost:8080/"
        }
      },
      "source": [
        "seq_len_list = [8, 6, 10]\n",
        "\n",
        "input_size = 2\n",
        "hidden_size = 4\n",
        "\n",
        "# 入力データのサンプル\n",
        "input_seq = []\n",
        "for seq_len in seq_len_list:\n",
        "    iseq = torch.randn(seq_len, input_size)\n",
        "    print('input sequence:', iseq.shape)\n",
        "    input_seq.append(iseq)\n",
        "\n",
        "# ネットワークの定義\n",
        "net = nn.LSTM(input_size, hidden_size, num_layers=2, batch_first=True)\n",
        "\n",
        "# 順伝播\n",
        "output_data = []     # 出力データを格納するリスト\n",
        "for iseq in input_seq:\n",
        "    iseq = iseq.unsqueeze(0)    # 先頭にバッチサイズの次元1を加える\n",
        "    oseq, _ = net(iseq)\n",
        "    # スライスでシーケンスの最終状態のみ取り出し、squeezeで先頭のバッチサイズの次元1を除去してリストに追加\n",
        "    output_data.append(oseq[:, -1, :].squeeze(0))\n",
        "\n",
        "# 出力データの確認\n",
        "for odata in output_data:\n",
        "    print('output data:', odata.shape)"
      ],
      "execution_count": 6,
      "outputs": [
        {
          "output_type": "stream",
          "name": "stdout",
          "text": [
            "input sequence: torch.Size([8, 2])\n",
            "input sequence: torch.Size([6, 2])\n",
            "input sequence: torch.Size([10, 2])\n",
            "output data: torch.Size([4])\n",
            "output data: torch.Size([4])\n",
            "output data: torch.Size([4])\n"
          ]
        }
      ]
    },
    {
      "cell_type": "markdown",
      "metadata": {
        "id": "IHYIBw7-Zjvg"
      },
      "source": [
        "## シーケンス長が揃っているデータにtorch.nn.LSTＭを使用"
      ]
    },
    {
      "cell_type": "code",
      "metadata": {
        "id": "kXp0BfmCZjvg",
        "outputId": "3ee4969b-2431-4d9c-fb64-4a4f557d14c2",
        "colab": {
          "base_uri": "https://localhost:8080/"
        }
      },
      "source": [
        "batch_size = 20\n",
        "seq_len = 10\n",
        "\n",
        "input_size = 2\n",
        "hidden_size = 4\n",
        "\n",
        "# 入力データのサンプル\n",
        "input_seq = torch.randn(batch_size, seq_len, input_size)\n",
        "print('input sequence:', input_seq.shape)\n",
        "\n",
        "# ネットワークの定義\n",
        "net = nn.LSTM(input_size, hidden_size, num_layers=2, batch_first=True)\n",
        "\n",
        "# 順伝播\n",
        "output_seq, _ = net(input_seq)\n",
        "output_data = output_seq[:, -1, :] # スライスでシーケンスの最終状態のみ使う\n",
        "\n",
        "# 出力データの確認\n",
        "print('output data:', output_data.shape)"
      ],
      "execution_count": 7,
      "outputs": [
        {
          "output_type": "stream",
          "name": "stdout",
          "text": [
            "input sequence: torch.Size([20, 10, 2])\n",
            "output data: torch.Size([20, 4])\n"
          ]
        }
      ]
    },
    {
      "cell_type": "markdown",
      "metadata": {
        "id": "wLeBTbg-Zjvh"
      },
      "source": [
        "## シーケンス長が揃っているデータにtorch.nn.LSTＭＣｅｌｌを使用"
      ]
    },
    {
      "cell_type": "code",
      "metadata": {
        "id": "DGPj3re5Zjvh",
        "outputId": "b919ff6a-bab6-4a8d-f714-48f32e2b6c0d",
        "colab": {
          "base_uri": "https://localhost:8080/"
        }
      },
      "source": [
        "batch_size = 20\n",
        "seq_len = 10\n",
        "\n",
        "input_size = 2\n",
        "hidden_size = 4\n",
        "\n",
        "# 入力データのサンプル\n",
        "input_seq = torch.randn(batch_size, seq_len, input_size)\n",
        "print(\"input sequence：\", input_seq.size())\n",
        "\n",
        "\n",
        "# ネットワークの定義\n",
        "class Net(nn.Module):\n",
        "    def __init__(self):\n",
        "        super(Net, self).__init__()\n",
        "        self.block_a = nn.LSTMCell(input_size, hidden_size)  # LSTMブロックA\n",
        "        self.block_b = nn.LSTMCell(hidden_size, hidden_size)  # LSTMブロックB\n",
        "\n",
        "    def forward(self, x, hx_a0, cx_a0, hx_b0, cx_b0):\n",
        "        '''\n",
        "        :param x: 現時刻の入力シーケンスの状態\n",
        "        :param hx_a0: 前時刻のLSTMブロックAの隠れ層の状態\n",
        "        :param cx_a0: 前時刻のLSTMブロックAのセル状態\n",
        "        :param hx_b0: 前時刻のLSTMブロックBの隠れ層の状態\n",
        "        :param cx_b0: 前時刻のLSTMブロックBのセル状態\n",
        "        :return: 現時刻のLSTMブロックAの隠れ層の状態とセル状態、現時刻のLSTMブロックBの隠れ層の状態とセル状態\n",
        "        '''\n",
        "        hx_a1, cx_a1 = self.block_a(x, (hx_a0, cx_a0))  # 現時刻のLSTMブロックAの隠れ層の状態とセル状態\n",
        "        hx_b1, cx_b1 = self.block_b(hx_a1, (hx_b0, cx_b0))  # 現時刻のLSTMブロックBの隠れ層の状態とセル状態\n",
        "        return hx_a1, cx_a1, hx_b1, cx_b1\n",
        "\n",
        "\n",
        "net = Net()\n",
        "\n",
        "# 隠れ層の初期化\n",
        "hx_a = torch.randn(batch_size, hidden_size)\n",
        "cx_a = torch.randn(batch_size, hidden_size)\n",
        "hx_b = torch.randn(batch_size, hidden_size)\n",
        "cx_b = torch.randn(batch_size, hidden_size)\n",
        "\n",
        "# 出力データを生成\n",
        "for i in range(seq_len):\n",
        "    hx_a, cx_a, hx_b, hx_b = net(input_seq[:, i, :], hx_a, cx_a, hx_b, cx_b)\n",
        "output_data = hx_b     # シーケンスの最終状態のみ取り出し出力とする\n",
        "\n",
        "# 出力データの確認\n",
        "print('output data:', output_data.shape)"
      ],
      "execution_count": 8,
      "outputs": [
        {
          "output_type": "stream",
          "name": "stdout",
          "text": [
            "input sequence： torch.Size([20, 10, 2])\n",
            "output data: torch.Size([20, 4])\n"
          ]
        }
      ]
    },
    {
      "cell_type": "code",
      "metadata": {
        "id": "sqiyzqN-Zjvi"
      },
      "source": [
        ""
      ],
      "execution_count": null,
      "outputs": []
    }
  ]
}